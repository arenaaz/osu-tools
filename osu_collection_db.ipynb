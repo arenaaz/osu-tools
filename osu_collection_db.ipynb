{
 "cells": [
  {
   "cell_type": "markdown",
   "metadata": {},
   "source": [
    "## Data Types ##\n",
    "```\n",
    "Name   | Number of bytes | Description\n",
    "------------------------------------\n",
    "Int    |               4 | integer\n",
    "String |        Variable | (See Note 1)\n",
    "```\n",
    "\n",
    "Note 1: String has three parts; a single byte which will be either 0x00, indicating that the next two parts are not present, or 0x0b (decimal 11), indicating that the next two parts are present. If it is 0x0b, there will then be a ULEB128, representing the byte length of the following string, and then the string itself, encoded in UTF-8. See this."
   ]
  },
  {
   "cell_type": "markdown",
   "metadata": {},
   "source": [
    "## collection.db format ##\n",
    "### Header ###\n",
    "```\n",
    "Data type | Description\n",
    "-----------------------------------\n",
    "Int       | Version (e.g. 20150203)\n",
    "Int       | Number of collections\n",
    "```\n",
    "### Per collection ###\n",
    "```\n",
    "Data type | Description\n",
    "-------------------------------------------------------------------------------------\n",
    "String    | Name of the collection\n",
    "Int       | Number of beatmaps in the collection\n",
    "String*   | Beatmap MD5 hash. Repeated for as many beatmaps as are in the collection.\n",
    "```"
   ]
  },
  {
   "cell_type": "code",
   "execution_count": null,
   "metadata": {},
   "outputs": [],
   "source": [
    "import sys\n",
    "sys.path.append(\"projects/osu!tools/\")\n",
    "from db import CollectionDB"
   ]
  },
  {
   "cell_type": "code",
   "execution_count": null,
   "metadata": {},
   "outputs": [],
   "source": [
    "from importlib import reload\n",
    "import db\n",
    "db = reload(db)"
   ]
  },
  {
   "cell_type": "code",
   "execution_count": null,
   "metadata": {},
   "outputs": [],
   "source": [
    "from pathlib import Path\n",
    "user_home = str(Path.home())\n",
    "osu_collection_file = user_home + '\\\\AppData\\\\Local\\\\osu!\\\\collection.db'"
   ]
  },
  {
   "cell_type": "code",
   "execution_count": null,
   "metadata": {},
   "outputs": [],
   "source": [
    "with open(osu_collection_file, \"rb\") as f:\n",
    "    coll = CollectionDB(f)"
   ]
  }
 ],
 "metadata": {
  "kernelspec": {
   "display_name": "Python 3",
   "language": "python",
   "name": "python3"
  },
  "language_info": {
   "codemirror_mode": {
    "name": "ipython",
    "version": 3
   },
   "file_extension": ".py",
   "mimetype": "text/x-python",
   "name": "python",
   "nbconvert_exporter": "python",
   "pygments_lexer": "ipython3",
   "version": "3.7.0"
  }
 },
 "nbformat": 4,
 "nbformat_minor": 2
}
